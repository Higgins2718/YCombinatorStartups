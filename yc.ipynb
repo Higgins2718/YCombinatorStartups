{
  "nbformat": 4,
  "nbformat_minor": 0,
  "metadata": {
    "colab": {
      "name": "yc.ipynb",
      "provenance": [],
      "authorship_tag": "ABX9TyOaUsoFgesuSVPTyVVu0hyP",
      "include_colab_link": true
    },
    "kernelspec": {
      "name": "python3",
      "display_name": "Python 3"
    }
  },
  "cells": [
    {
      "cell_type": "markdown",
      "metadata": {
        "id": "view-in-github",
        "colab_type": "text"
      },
      "source": [
        "<a href=\"https://colab.research.google.com/github/Higgins2718/YCombinatorStartups/blob/master/yc.ipynb\" target=\"_parent\"><img src=\"https://colab.research.google.com/assets/colab-badge.svg\" alt=\"Open In Colab\"/></a>"
      ]
    },
    {
      "cell_type": "code",
      "metadata": {
        "id": "6XNtJm5BnsgS",
        "colab_type": "code",
        "colab": {}
      },
      "source": [
        "import pandas as pd\n",
        "import numpy as np\n",
        "\n",
        "df = pd.read_csv(\"/content/startupdata2.csv\")"
      ],
      "execution_count": 0,
      "outputs": []
    },
    {
      "cell_type": "code",
      "metadata": {
        "id": "gFJ8JkCv2vMF",
        "colab_type": "code",
        "colab": {
          "base_uri": "https://localhost:8080/",
          "height": 34
        },
        "outputId": "4329c54a-7d63-4aa9-b3e6-c53d00225954"
      },
      "source": [
        "df.shape"
      ],
      "execution_count": 15,
      "outputs": [
        {
          "output_type": "execute_result",
          "data": {
            "text/plain": [
              "(506, 36)"
            ]
          },
          "metadata": {
            "tags": []
          },
          "execution_count": 15
        }
      ]
    },
    {
      "cell_type": "code",
      "metadata": {
        "id": "YTVehvNS2t1S",
        "colab_type": "code",
        "colab": {
          "base_uri": "https://localhost:8080/",
          "height": 666
        },
        "outputId": "458c06c5-65bd-4418-c5fa-2a7754f1bf82"
      },
      "source": [
        "df.head()"
      ],
      "execution_count": 16,
      "outputs": [
        {
          "output_type": "execute_result",
          "data": {
            "text/html": [
              "<div>\n",
              "<style scoped>\n",
              "    .dataframe tbody tr th:only-of-type {\n",
              "        vertical-align: middle;\n",
              "    }\n",
              "\n",
              "    .dataframe tbody tr th {\n",
              "        vertical-align: top;\n",
              "    }\n",
              "\n",
              "    .dataframe thead th {\n",
              "        text-align: right;\n",
              "    }\n",
              "</style>\n",
              "<table border=\"1\" class=\"dataframe\">\n",
              "  <thead>\n",
              "    <tr style=\"text-align: right;\">\n",
              "      <th></th>\n",
              "      <th>Unnamed: 0</th>\n",
              "      <th>Company</th>\n",
              "      <th>Title</th>\n",
              "      <th>TitlePoints</th>\n",
              "      <th>TitleURL</th>\n",
              "      <th>TopComment</th>\n",
              "      <th>Sentiment</th>\n",
              "      <th>TopCommentPoints</th>\n",
              "      <th>Fate</th>\n",
              "      <th>Description</th>\n",
              "      <th>Market</th>\n",
              "      <th>Founders</th>\n",
              "      <th>YCYear</th>\n",
              "      <th>YCSession</th>\n",
              "      <th>Investors</th>\n",
              "      <th>TotalFunds</th>\n",
              "      <th>City</th>\n",
              "      <th>Logo</th>\n",
              "      <th>SeedDBMattermarkProfile</th>\n",
              "      <th>CrunchBaseAngelListProfile</th>\n",
              "      <th>Website</th>\n",
              "      <th>Investors1</th>\n",
              "      <th>Investors2</th>\n",
              "      <th>Investors3</th>\n",
              "      <th>Investors4</th>\n",
              "      <th>Founders1</th>\n",
              "      <th>Founders2</th>\n",
              "      <th>Founders3</th>\n",
              "      <th>Founders4</th>\n",
              "      <th>Market1</th>\n",
              "      <th>Market2</th>\n",
              "      <th>Market3</th>\n",
              "      <th>Market4</th>\n",
              "      <th>Market5</th>\n",
              "      <th>Prediction</th>\n",
              "      <th>Probability</th>\n",
              "    </tr>\n",
              "  </thead>\n",
              "  <tbody>\n",
              "    <tr>\n",
              "      <th>0</th>\n",
              "      <td>0</td>\n",
              "      <td>Curebit</td>\n",
              "      <td>Curebit (YC W11) Raises $1.2 Million For Onlin...</td>\n",
              "      <td>135</td>\n",
              "      <td>https://news.ycombinator.com/item?id=3520175</td>\n",
              "      <td>Your new designer will be able to have a crack...</td>\n",
              "      <td>0.000000</td>\n",
              "      <td>92</td>\n",
              "      <td>Operating</td>\n",
              "      <td>Talkable is a social referral platform for onl...</td>\n",
              "      <td>E-Commerce, Analytics, Internet, Marketing, So...</td>\n",
              "      <td>Allan Grant, Dominic Coryell, Jeff Yee, Nori Y...</td>\n",
              "      <td>2011</td>\n",
              "      <td>Winter</td>\n",
              "      <td>500 Startups, Dharmesh Shah, Alex Lloyd, Auren...</td>\n",
              "      <td>17000</td>\n",
              "      <td>San Francisco</td>\n",
              "      <td>http://a5.images.crunchbase.com/image/upload/c...</td>\n",
              "      <td>http://www.seed-db.com/companies/view?companyi...</td>\n",
              "      <td>http://www.crunchbase.com/organization/curebit</td>\n",
              "      <td>https://www.talkable.com</td>\n",
              "      <td>500 Startups</td>\n",
              "      <td>Dharmesh Shah</td>\n",
              "      <td>Alex Lloyd</td>\n",
              "      <td>Auren Hoffman</td>\n",
              "      <td>Allan Grant</td>\n",
              "      <td>Dominic Coryell</td>\n",
              "      <td>Jeff Yee</td>\n",
              "      <td>Nori Yoshida</td>\n",
              "      <td>E-Commerce</td>\n",
              "      <td>Analytics</td>\n",
              "      <td>Internet</td>\n",
              "      <td>Marketing</td>\n",
              "      <td>Social Media</td>\n",
              "      <td>Not Operating</td>\n",
              "      <td>0.633333</td>\n",
              "    </tr>\n",
              "    <tr>\n",
              "      <th>1</th>\n",
              "      <td>1</td>\n",
              "      <td>Goldbely</td>\n",
              "      <td>Goldbely (YC W13) Raises $3M Led By Intel Capi...</td>\n",
              "      <td>49</td>\n",
              "      <td>https://news.ycombinator.com/item?id=6400654</td>\n",
              "      <td>I think they're squarely aiming it as a high-e...</td>\n",
              "      <td>1.250000</td>\n",
              "      <td>4</td>\n",
              "      <td>Operating</td>\n",
              "      <td>Goldbely is an e-commerce site for buying and ...</td>\n",
              "      <td>Social, E-Commerce</td>\n",
              "      <td>Joe Ariel, Joel Gillman, Trevor Stow, Vanessa ...</td>\n",
              "      <td>2013</td>\n",
              "      <td>Winter</td>\n",
              "      <td>500 Startups, Funders Club, Dave McClure, Tim ...</td>\n",
              "      <td>3000000</td>\n",
              "      <td>San Francisco</td>\n",
              "      <td>http://a3.images.crunchbase.com/image/upload/c...</td>\n",
              "      <td>http://www.seed-db.com/companies/view?companyi...</td>\n",
              "      <td>http://www.crunchbase.com/organization/goldbely</td>\n",
              "      <td>http://www.goldbely.com</td>\n",
              "      <td>500 Startups</td>\n",
              "      <td>Funders Club</td>\n",
              "      <td>Dave McClure</td>\n",
              "      <td>Tim Draper</td>\n",
              "      <td>Joe Ariel</td>\n",
              "      <td>Joel Gillman</td>\n",
              "      <td>Trevor Stow</td>\n",
              "      <td>Vanessa Torrivilla</td>\n",
              "      <td>Social</td>\n",
              "      <td>E-Commerce</td>\n",
              "      <td>NaN</td>\n",
              "      <td>NaN</td>\n",
              "      <td>NaN</td>\n",
              "      <td>Operating</td>\n",
              "      <td>0.700000</td>\n",
              "    </tr>\n",
              "    <tr>\n",
              "      <th>2</th>\n",
              "      <td>2</td>\n",
              "      <td>theDailyMuse</td>\n",
              "      <td>Show HN: A better to-do list (based on thedail...</td>\n",
              "      <td>8</td>\n",
              "      <td>https://news.ycombinator.com/item?id=5498353</td>\n",
              "      <td>Thanks, glad you appreciate it!</td>\n",
              "      <td>2.333333</td>\n",
              "      <td>1</td>\n",
              "      <td>Operating</td>\n",
              "      <td>The Daily Muse is a job search platform offeri...</td>\n",
              "      <td>NaN</td>\n",
              "      <td>Alex Cavoulacos, Kathryn Minshew, Melissa McCr...</td>\n",
              "      <td>2012</td>\n",
              "      <td>Winter</td>\n",
              "      <td>500 Startups, Great Oaks Venture Capital, Grea...</td>\n",
              "      <td>7300000</td>\n",
              "      <td>New York City</td>\n",
              "      <td>http://a5.images.crunchbase.com/image/upload/c...</td>\n",
              "      <td>http://www.seed-db.com/companies/view?companyi...</td>\n",
              "      <td>http://www.crunchbase.com/organization/the-dai...</td>\n",
              "      <td>http://www.thedailymuse.com</td>\n",
              "      <td>500 Startups</td>\n",
              "      <td>Great Oaks Venture Capital</td>\n",
              "      <td>Great Oaks Venture Capital</td>\n",
              "      <td>Thomas D. Lehrman</td>\n",
              "      <td>Alex Cavoulacos</td>\n",
              "      <td>Kathryn Minshew</td>\n",
              "      <td>Melissa McCreery</td>\n",
              "      <td>NaN</td>\n",
              "      <td>NaN</td>\n",
              "      <td>NaN</td>\n",
              "      <td>NaN</td>\n",
              "      <td>NaN</td>\n",
              "      <td>NaN</td>\n",
              "      <td>Operating</td>\n",
              "      <td>0.750000</td>\n",
              "    </tr>\n",
              "    <tr>\n",
              "      <th>3</th>\n",
              "      <td>3</td>\n",
              "      <td>Zencoder</td>\n",
              "      <td>Brightcove Acquires Zencoder (YC W10)</td>\n",
              "      <td>147</td>\n",
              "      <td>https://news.ycombinator.com/item?id=4298420</td>\n",
              "      <td>Nice, the kind of acquisition we like to see w...</td>\n",
              "      <td>2.400000</td>\n",
              "      <td>19</td>\n",
              "      <td>Operating</td>\n",
              "      <td>Zencoder is web-based video encoding SaaS desi...</td>\n",
              "      <td>SaaS, Cloud Computing, Audio, Web Development,...</td>\n",
              "      <td>Brandon Arbini, Jon Dahl, Steve Heffernan</td>\n",
              "      <td>2010</td>\n",
              "      <td>Winter</td>\n",
              "      <td>500 Startups, Matt Cutts, Ignition Partners, J...</td>\n",
              "      <td>17000</td>\n",
              "      <td>San Francisco</td>\n",
              "      <td>http://a1.images.crunchbase.com/image/upload/c...</td>\n",
              "      <td>http://www.seed-db.com/companies/view?companyi...</td>\n",
              "      <td>http://www.crunchbase.com/organization/zencoder</td>\n",
              "      <td>http://zencoder.com</td>\n",
              "      <td>500 Startups</td>\n",
              "      <td>Matt Cutts</td>\n",
              "      <td>Ignition Partners</td>\n",
              "      <td>James Lindenbaum</td>\n",
              "      <td>Brandon Arbini</td>\n",
              "      <td>Jon Dahl</td>\n",
              "      <td>Steve Heffernan</td>\n",
              "      <td>NaN</td>\n",
              "      <td>SaaS</td>\n",
              "      <td>Cloud Computing</td>\n",
              "      <td>Audio</td>\n",
              "      <td>Web Development</td>\n",
              "      <td>Data</td>\n",
              "      <td>Operating</td>\n",
              "      <td>0.600000</td>\n",
              "    </tr>\n",
              "    <tr>\n",
              "      <th>4</th>\n",
              "      <td>4</td>\n",
              "      <td>GinzaMetrics</td>\n",
              "      <td>Ginzametrics (YC S10) Aims To Bring Simplicity...</td>\n",
              "      <td>101</td>\n",
              "      <td>https://news.ycombinator.com/item?id=1621190</td>\n",
              "      <td>Anyone else get the feeling that Ginza just em...</td>\n",
              "      <td>1.000000</td>\n",
              "      <td>10</td>\n",
              "      <td>Operating</td>\n",
              "      <td>GinzaMetrics offers an SEO and content marketi...</td>\n",
              "      <td>Enterprises, E-Commerce, Analytics, SEO, Enter...</td>\n",
              "      <td>Ray Grieselhuber</td>\n",
              "      <td>2010</td>\n",
              "      <td>Summer</td>\n",
              "      <td>500 Startups, 500 Startups, Venture51, Jeff Mi...</td>\n",
              "      <td>1731000</td>\n",
              "      <td>San Francisco</td>\n",
              "      <td>http://a2.images.crunchbase.com/image/upload/c...</td>\n",
              "      <td>http://www.seed-db.com/companies/view?companyi...</td>\n",
              "      <td>http://www.crunchbase.com/organization/ginzame...</td>\n",
              "      <td>http://ginzametrics.com</td>\n",
              "      <td>500 Startups</td>\n",
              "      <td>500 Startups</td>\n",
              "      <td>Venture51</td>\n",
              "      <td>Jeff Miller</td>\n",
              "      <td>Ray Grieselhuber</td>\n",
              "      <td>NaN</td>\n",
              "      <td>NaN</td>\n",
              "      <td>NaN</td>\n",
              "      <td>Enterprises</td>\n",
              "      <td>E-Commerce</td>\n",
              "      <td>Analytics</td>\n",
              "      <td>SEO</td>\n",
              "      <td>Enterprise Software</td>\n",
              "      <td>Operating</td>\n",
              "      <td>0.900000</td>\n",
              "    </tr>\n",
              "  </tbody>\n",
              "</table>\n",
              "</div>"
            ],
            "text/plain": [
              "   Unnamed: 0       Company  ...     Prediction  Probability\n",
              "0           0       Curebit  ...  Not Operating     0.633333\n",
              "1           1      Goldbely  ...      Operating     0.700000\n",
              "2           2  theDailyMuse  ...      Operating     0.750000\n",
              "3           3      Zencoder  ...      Operating     0.600000\n",
              "4           4  GinzaMetrics  ...      Operating     0.900000\n",
              "\n",
              "[5 rows x 36 columns]"
            ]
          },
          "metadata": {
            "tags": []
          },
          "execution_count": 16
        }
      ]
    },
    {
      "cell_type": "code",
      "metadata": {
        "id": "caSDX9Hg4kAN",
        "colab_type": "code",
        "colab": {
          "base_uri": "https://localhost:8080/",
          "height": 68
        },
        "outputId": "f8015700-1d4c-4acc-a18c-f448f1520b2b"
      },
      "source": [
        "df['Prediction'].value_counts()"
      ],
      "execution_count": 18,
      "outputs": [
        {
          "output_type": "execute_result",
          "data": {
            "text/plain": [
              "Operating        257\n",
              "Not Operating    249\n",
              "Name: Prediction, dtype: int64"
            ]
          },
          "metadata": {
            "tags": []
          },
          "execution_count": 18
        }
      ]
    },
    {
      "cell_type": "code",
      "metadata": {
        "id": "4Z2mXTfNd2dH",
        "colab_type": "code",
        "colab": {}
      },
      "source": [
        "df2 = df[['Company', 'YCYear', 'YCSession', 'City', 'Founders1', 'Founders2', 'Founders3','Founders4', \n",
        "          'Market1', 'Market2', 'Market3', 'Market4', 'Market5', 'Fate']]"
      ],
      "execution_count": 0,
      "outputs": []
    },
    {
      "cell_type": "code",
      "metadata": {
        "id": "thFbvA4pepr1",
        "colab_type": "code",
        "colab": {}
      },
      "source": [
        "import math\n",
        "\n",
        "def sumfounders(first,second,third,fourth):\n",
        "  counter = 0\n",
        "  print(first)\n",
        "  #if first == np.nan: print(True)\n",
        "  if pd.isnull(first) == False: counter += 1\n",
        "  if pd.isnull(second) == False: counter += 1\n",
        "  if pd.isnull(third) == False: counter += 1\n",
        "  if pd.isnull(fourth) == False: counter += 1\n",
        "\n",
        "  print(counter)\n",
        "  return counter\n",
        "df2.head()\n",
        "df2['Founders'] = df2.apply(lambda x: sumfounders(x['Founders1'], x['Founders2'], x['Founders3'], x['Founders4']), axis=1)"
      ],
      "execution_count": 0,
      "outputs": []
    },
    {
      "cell_type": "code",
      "metadata": {
        "id": "qOHGCH-hp6LB",
        "colab_type": "code",
        "colab": {
          "base_uri": "https://localhost:8080/",
          "height": 122
        },
        "outputId": "c9064add-6605-48de-f8aa-29a208bdb406"
      },
      "source": [
        "df2.drop(['Founders1', 'Founders2', \n",
        "                'Founders3', 'Founders4'], axis=1, inplace=True)"
      ],
      "execution_count": 113,
      "outputs": [
        {
          "output_type": "stream",
          "text": [
            "/usr/local/lib/python3.6/dist-packages/pandas/core/frame.py:4117: SettingWithCopyWarning: \n",
            "A value is trying to be set on a copy of a slice from a DataFrame\n",
            "\n",
            "See the caveats in the documentation: http://pandas.pydata.org/pandas-docs/stable/user_guide/indexing.html#returning-a-view-versus-a-copy\n",
            "  errors=errors,\n"
          ],
          "name": "stderr"
        }
      ]
    },
    {
      "cell_type": "code",
      "metadata": {
        "id": "I3gGr44sowSU",
        "colab_type": "code",
        "colab": {
          "base_uri": "https://localhost:8080/",
          "height": 289
        },
        "outputId": "087fbe30-4005-4282-8a50-b6ab1f9dcced"
      },
      "source": [
        "df2.head()"
      ],
      "execution_count": 114,
      "outputs": [
        {
          "output_type": "execute_result",
          "data": {
            "text/html": [
              "<div>\n",
              "<style scoped>\n",
              "    .dataframe tbody tr th:only-of-type {\n",
              "        vertical-align: middle;\n",
              "    }\n",
              "\n",
              "    .dataframe tbody tr th {\n",
              "        vertical-align: top;\n",
              "    }\n",
              "\n",
              "    .dataframe thead th {\n",
              "        text-align: right;\n",
              "    }\n",
              "</style>\n",
              "<table border=\"1\" class=\"dataframe\">\n",
              "  <thead>\n",
              "    <tr style=\"text-align: right;\">\n",
              "      <th></th>\n",
              "      <th>Company</th>\n",
              "      <th>YCYear</th>\n",
              "      <th>YCSession</th>\n",
              "      <th>City</th>\n",
              "      <th>Market1</th>\n",
              "      <th>Market2</th>\n",
              "      <th>Market3</th>\n",
              "      <th>Market4</th>\n",
              "      <th>Market5</th>\n",
              "      <th>Fate</th>\n",
              "    </tr>\n",
              "  </thead>\n",
              "  <tbody>\n",
              "    <tr>\n",
              "      <th>0</th>\n",
              "      <td>Curebit</td>\n",
              "      <td>2011</td>\n",
              "      <td>Winter</td>\n",
              "      <td>San Francisco</td>\n",
              "      <td>E-Commerce</td>\n",
              "      <td>Analytics</td>\n",
              "      <td>Internet</td>\n",
              "      <td>Marketing</td>\n",
              "      <td>Social Media</td>\n",
              "      <td>Operating</td>\n",
              "    </tr>\n",
              "    <tr>\n",
              "      <th>1</th>\n",
              "      <td>Goldbely</td>\n",
              "      <td>2013</td>\n",
              "      <td>Winter</td>\n",
              "      <td>San Francisco</td>\n",
              "      <td>Social</td>\n",
              "      <td>E-Commerce</td>\n",
              "      <td>NaN</td>\n",
              "      <td>NaN</td>\n",
              "      <td>NaN</td>\n",
              "      <td>Operating</td>\n",
              "    </tr>\n",
              "    <tr>\n",
              "      <th>2</th>\n",
              "      <td>theDailyMuse</td>\n",
              "      <td>2012</td>\n",
              "      <td>Winter</td>\n",
              "      <td>New York City</td>\n",
              "      <td>NaN</td>\n",
              "      <td>NaN</td>\n",
              "      <td>NaN</td>\n",
              "      <td>NaN</td>\n",
              "      <td>NaN</td>\n",
              "      <td>Operating</td>\n",
              "    </tr>\n",
              "    <tr>\n",
              "      <th>3</th>\n",
              "      <td>Zencoder</td>\n",
              "      <td>2010</td>\n",
              "      <td>Winter</td>\n",
              "      <td>San Francisco</td>\n",
              "      <td>SaaS</td>\n",
              "      <td>Cloud Computing</td>\n",
              "      <td>Audio</td>\n",
              "      <td>Web Development</td>\n",
              "      <td>Data</td>\n",
              "      <td>Operating</td>\n",
              "    </tr>\n",
              "    <tr>\n",
              "      <th>4</th>\n",
              "      <td>GinzaMetrics</td>\n",
              "      <td>2010</td>\n",
              "      <td>Summer</td>\n",
              "      <td>San Francisco</td>\n",
              "      <td>Enterprises</td>\n",
              "      <td>E-Commerce</td>\n",
              "      <td>Analytics</td>\n",
              "      <td>SEO</td>\n",
              "      <td>Enterprise Software</td>\n",
              "      <td>Operating</td>\n",
              "    </tr>\n",
              "  </tbody>\n",
              "</table>\n",
              "</div>"
            ],
            "text/plain": [
              "        Company  YCYear  ...              Market5       Fate\n",
              "0       Curebit    2011  ...         Social Media  Operating\n",
              "1      Goldbely    2013  ...                  NaN  Operating\n",
              "2  theDailyMuse    2012  ...                  NaN  Operating\n",
              "3      Zencoder    2010  ...                 Data  Operating\n",
              "4  GinzaMetrics    2010  ...  Enterprise Software  Operating\n",
              "\n",
              "[5 rows x 10 columns]"
            ]
          },
          "metadata": {
            "tags": []
          },
          "execution_count": 114
        }
      ]
    },
    {
      "cell_type": "code",
      "metadata": {
        "id": "r4MClaHzq6T_",
        "colab_type": "code",
        "colab": {}
      },
      "source": [
        "pd.options.display.max_rows = 1000\n",
        "\n",
        "\n",
        "df2['Market1'].value_counts()"
      ],
      "execution_count": 0,
      "outputs": []
    },
    {
      "cell_type": "code",
      "metadata": {
        "id": "o1G-lSSzr6S8",
        "colab_type": "code",
        "colab": {}
      },
      "source": [
        "df2.shape"
      ],
      "execution_count": 0,
      "outputs": []
    },
    {
      "cell_type": "code",
      "metadata": {
        "id": "KnZQ0f0grC2d",
        "colab_type": "code",
        "colab": {}
      },
      "source": [
        "df2[df2['Market1'].isnull()]"
      ],
      "execution_count": 0,
      "outputs": []
    },
    {
      "cell_type": "code",
      "metadata": {
        "id": "YK15qhsWtkm1",
        "colab_type": "code",
        "colab": {
          "base_uri": "https://localhost:8080/",
          "height": 68
        },
        "outputId": "6b394583-ef89-4979-fd18-4a1eda6cb65a"
      },
      "source": [
        "import nltk\n",
        "\n",
        "nltk.download('cmudict')"
      ],
      "execution_count": 77,
      "outputs": [
        {
          "output_type": "stream",
          "text": [
            "[nltk_data] Downloading package cmudict to /root/nltk_data...\n",
            "[nltk_data]   Unzipping corpora/cmudict.zip.\n"
          ],
          "name": "stdout"
        },
        {
          "output_type": "execute_result",
          "data": {
            "text/plain": [
              "True"
            ]
          },
          "metadata": {
            "tags": []
          },
          "execution_count": 77
        }
      ]
    },
    {
      "cell_type": "code",
      "metadata": {
        "id": "Tgt8pBFIvekL",
        "colab_type": "code",
        "colab": {
          "base_uri": "https://localhost:8080/",
          "height": 105
        },
        "outputId": "a8874c60-7753-4c2f-c41f-794e13b4c421"
      },
      "source": [
        "!pip install syllables"
      ],
      "execution_count": 101,
      "outputs": [
        {
          "output_type": "stream",
          "text": [
            "Collecting syllables\n",
            "  Downloading https://files.pythonhosted.org/packages/16/d9/81a31f640ccf405fdfd0eae8eebfc2579b438804dbf34dc03cad3e76169a/syllables-0.1.0-py2.py3-none-any.whl\n",
            "Installing collected packages: syllables\n",
            "Successfully installed syllables-0.1.0\n"
          ],
          "name": "stdout"
        }
      ]
    },
    {
      "cell_type": "code",
      "metadata": {
        "id": "9yIWdyJ3tYeA",
        "colab_type": "code",
        "colab": {}
      },
      "source": [
        "import syllables\n",
        "\n",
        "from nltk.corpus import cmudict\n",
        "d = cmudict.dict()\n",
        "def syllable_count(word):\n",
        "    '''word = word.lower()\n",
        "    word = word.replace(\".\", \"dot\")\n",
        "    count = 0\n",
        "    vowels = \"aeiouy\"\n",
        "    if word[0] in vowels:\n",
        "        count += 1\n",
        "    for index in range(1, len(word)):\n",
        "        if word[index] in vowels and word[index - 1] not in vowels:\n",
        "            count += 1\n",
        "    if word.endswith(\"e\"):\n",
        "        count -= 1\n",
        "    if count == 0:\n",
        "        count += 1\n",
        "    return count'''\n",
        "    count = syllables.estimate(word)\n",
        "    return count"
      ],
      "execution_count": 0,
      "outputs": []
    },
    {
      "cell_type": "code",
      "metadata": {
        "id": "C-JmX7uFv3D1",
        "colab_type": "code",
        "colab": {}
      },
      "source": [
        "df2.drop(['NameSyllables2', 'NameSyllables'], axis=1, inplace=True)"
      ],
      "execution_count": 0,
      "outputs": []
    },
    {
      "cell_type": "code",
      "metadata": {
        "id": "vChgG16gtzhx",
        "colab_type": "code",
        "colab": {
          "base_uri": "https://localhost:8080/",
          "height": 139
        },
        "outputId": "b8c49cdd-59ed-4297-84fe-a7a61388bed2"
      },
      "source": [
        "df2['NameSyllables'] = df2.apply(lambda x: syllable_count(x['Company']), axis=1)"
      ],
      "execution_count": 117,
      "outputs": [
        {
          "output_type": "stream",
          "text": [
            "/usr/local/lib/python3.6/dist-packages/ipykernel_launcher.py:1: SettingWithCopyWarning: \n",
            "A value is trying to be set on a copy of a slice from a DataFrame.\n",
            "Try using .loc[row_indexer,col_indexer] = value instead\n",
            "\n",
            "See the caveats in the documentation: http://pandas.pydata.org/pandas-docs/stable/user_guide/indexing.html#returning-a-view-versus-a-copy\n",
            "  \"\"\"Entry point for launching an IPython kernel.\n"
          ],
          "name": "stderr"
        }
      ]
    },
    {
      "cell_type": "code",
      "metadata": {
        "id": "fjK7Yg-Yvv_B",
        "colab_type": "code",
        "colab": {
          "base_uri": "https://localhost:8080/",
          "height": 309
        },
        "outputId": "5ad623fb-b4cd-4b43-af21-5a729cb80d0e"
      },
      "source": [
        "df2.head()"
      ],
      "execution_count": 118,
      "outputs": [
        {
          "output_type": "execute_result",
          "data": {
            "text/html": [
              "<div>\n",
              "<style scoped>\n",
              "    .dataframe tbody tr th:only-of-type {\n",
              "        vertical-align: middle;\n",
              "    }\n",
              "\n",
              "    .dataframe tbody tr th {\n",
              "        vertical-align: top;\n",
              "    }\n",
              "\n",
              "    .dataframe thead th {\n",
              "        text-align: right;\n",
              "    }\n",
              "</style>\n",
              "<table border=\"1\" class=\"dataframe\">\n",
              "  <thead>\n",
              "    <tr style=\"text-align: right;\">\n",
              "      <th></th>\n",
              "      <th>Company</th>\n",
              "      <th>YCYear</th>\n",
              "      <th>YCSession</th>\n",
              "      <th>City</th>\n",
              "      <th>Market1</th>\n",
              "      <th>Market2</th>\n",
              "      <th>Market3</th>\n",
              "      <th>Market4</th>\n",
              "      <th>Market5</th>\n",
              "      <th>Fate</th>\n",
              "      <th>NameSyllables</th>\n",
              "    </tr>\n",
              "  </thead>\n",
              "  <tbody>\n",
              "    <tr>\n",
              "      <th>0</th>\n",
              "      <td>Curebit</td>\n",
              "      <td>2011</td>\n",
              "      <td>Winter</td>\n",
              "      <td>San Francisco</td>\n",
              "      <td>E-Commerce</td>\n",
              "      <td>Analytics</td>\n",
              "      <td>Internet</td>\n",
              "      <td>Marketing</td>\n",
              "      <td>Social Media</td>\n",
              "      <td>Operating</td>\n",
              "      <td>3</td>\n",
              "    </tr>\n",
              "    <tr>\n",
              "      <th>1</th>\n",
              "      <td>Goldbely</td>\n",
              "      <td>2013</td>\n",
              "      <td>Winter</td>\n",
              "      <td>San Francisco</td>\n",
              "      <td>Social</td>\n",
              "      <td>E-Commerce</td>\n",
              "      <td>NaN</td>\n",
              "      <td>NaN</td>\n",
              "      <td>NaN</td>\n",
              "      <td>Operating</td>\n",
              "      <td>3</td>\n",
              "    </tr>\n",
              "    <tr>\n",
              "      <th>2</th>\n",
              "      <td>theDailyMuse</td>\n",
              "      <td>2012</td>\n",
              "      <td>Winter</td>\n",
              "      <td>New York City</td>\n",
              "      <td>NaN</td>\n",
              "      <td>NaN</td>\n",
              "      <td>NaN</td>\n",
              "      <td>NaN</td>\n",
              "      <td>NaN</td>\n",
              "      <td>Operating</td>\n",
              "      <td>5</td>\n",
              "    </tr>\n",
              "    <tr>\n",
              "      <th>3</th>\n",
              "      <td>Zencoder</td>\n",
              "      <td>2010</td>\n",
              "      <td>Winter</td>\n",
              "      <td>San Francisco</td>\n",
              "      <td>SaaS</td>\n",
              "      <td>Cloud Computing</td>\n",
              "      <td>Audio</td>\n",
              "      <td>Web Development</td>\n",
              "      <td>Data</td>\n",
              "      <td>Operating</td>\n",
              "      <td>3</td>\n",
              "    </tr>\n",
              "    <tr>\n",
              "      <th>4</th>\n",
              "      <td>GinzaMetrics</td>\n",
              "      <td>2010</td>\n",
              "      <td>Summer</td>\n",
              "      <td>San Francisco</td>\n",
              "      <td>Enterprises</td>\n",
              "      <td>E-Commerce</td>\n",
              "      <td>Analytics</td>\n",
              "      <td>SEO</td>\n",
              "      <td>Enterprise Software</td>\n",
              "      <td>Operating</td>\n",
              "      <td>4</td>\n",
              "    </tr>\n",
              "  </tbody>\n",
              "</table>\n",
              "</div>"
            ],
            "text/plain": [
              "        Company  YCYear  ...       Fate NameSyllables\n",
              "0       Curebit    2011  ...  Operating             3\n",
              "1      Goldbely    2013  ...  Operating             3\n",
              "2  theDailyMuse    2012  ...  Operating             5\n",
              "3      Zencoder    2010  ...  Operating             3\n",
              "4  GinzaMetrics    2010  ...  Operating             4\n",
              "\n",
              "[5 rows x 11 columns]"
            ]
          },
          "metadata": {
            "tags": []
          },
          "execution_count": 118
        }
      ]
    },
    {
      "cell_type": "code",
      "metadata": {
        "id": "9MTWBeArxk43",
        "colab_type": "code",
        "colab": {
          "base_uri": "https://localhost:8080/",
          "height": 341
        },
        "outputId": "dc7cf56e-e65c-4df2-9836-a79c73b53e05"
      },
      "source": [
        "from sklearn.preprocessing import label_binarize, LabelEncoder\n",
        "from sklearn import preprocessing\n",
        "from sklearn.linear_model import LogisticRegression\n",
        "from sklearn.model_selection import train_test_split\n",
        "\n",
        "\n",
        "# Create a label (category) encoder object\n",
        "le = LabelEncoder()\n",
        "le.fit(df2.drop(['Fate'], axis=1))\n",
        "\n",
        "\n",
        "X = df2.drop(['Fate'], axis=1)\n",
        "y = df2['Fate']\n",
        "\n",
        "\n",
        "\n",
        "\n",
        "X_train, X_test, y_train, y_test = train_test_split(X, y, test_size=0.3, random_state=0)\n",
        "logreg = LogisticRegression()\n",
        "logreg.fit(X_train, y_train)"
      ],
      "execution_count": 122,
      "outputs": [
        {
          "output_type": "error",
          "ename": "ValueError",
          "evalue": "ignored",
          "traceback": [
            "\u001b[0;31m---------------------------------------------------------------------------\u001b[0m",
            "\u001b[0;31mValueError\u001b[0m                                Traceback (most recent call last)",
            "\u001b[0;32m<ipython-input-122-da1ba2e49cc9>\u001b[0m in \u001b[0;36m<module>\u001b[0;34m()\u001b[0m\n\u001b[1;32m     10\u001b[0m \u001b[0mX_train\u001b[0m\u001b[0;34m,\u001b[0m \u001b[0mX_test\u001b[0m\u001b[0;34m,\u001b[0m \u001b[0my_train\u001b[0m\u001b[0;34m,\u001b[0m \u001b[0my_test\u001b[0m \u001b[0;34m=\u001b[0m \u001b[0mtrain_test_split\u001b[0m\u001b[0;34m(\u001b[0m\u001b[0mX\u001b[0m\u001b[0;34m,\u001b[0m \u001b[0my\u001b[0m\u001b[0;34m,\u001b[0m \u001b[0mtest_size\u001b[0m\u001b[0;34m=\u001b[0m\u001b[0;36m0.3\u001b[0m\u001b[0;34m,\u001b[0m \u001b[0mrandom_state\u001b[0m\u001b[0;34m=\u001b[0m\u001b[0;36m0\u001b[0m\u001b[0;34m)\u001b[0m\u001b[0;34m\u001b[0m\u001b[0;34m\u001b[0m\u001b[0m\n\u001b[1;32m     11\u001b[0m \u001b[0mlogreg\u001b[0m \u001b[0;34m=\u001b[0m \u001b[0mLogisticRegression\u001b[0m\u001b[0;34m(\u001b[0m\u001b[0;34m)\u001b[0m\u001b[0;34m\u001b[0m\u001b[0;34m\u001b[0m\u001b[0m\n\u001b[0;32m---> 12\u001b[0;31m \u001b[0mlogreg\u001b[0m\u001b[0;34m.\u001b[0m\u001b[0mfit\u001b[0m\u001b[0;34m(\u001b[0m\u001b[0mX_train\u001b[0m\u001b[0;34m,\u001b[0m \u001b[0my_train\u001b[0m\u001b[0;34m)\u001b[0m\u001b[0;34m\u001b[0m\u001b[0;34m\u001b[0m\u001b[0m\n\u001b[0m",
            "\u001b[0;32m/usr/local/lib/python3.6/dist-packages/sklearn/linear_model/_logistic.py\u001b[0m in \u001b[0;36mfit\u001b[0;34m(self, X, y, sample_weight)\u001b[0m\n\u001b[1;32m   1525\u001b[0m \u001b[0;34m\u001b[0m\u001b[0m\n\u001b[1;32m   1526\u001b[0m         X, y = check_X_y(X, y, accept_sparse='csr', dtype=_dtype, order=\"C\",\n\u001b[0;32m-> 1527\u001b[0;31m                          accept_large_sparse=solver != 'liblinear')\n\u001b[0m\u001b[1;32m   1528\u001b[0m         \u001b[0mcheck_classification_targets\u001b[0m\u001b[0;34m(\u001b[0m\u001b[0my\u001b[0m\u001b[0;34m)\u001b[0m\u001b[0;34m\u001b[0m\u001b[0;34m\u001b[0m\u001b[0m\n\u001b[1;32m   1529\u001b[0m         \u001b[0mself\u001b[0m\u001b[0;34m.\u001b[0m\u001b[0mclasses_\u001b[0m \u001b[0;34m=\u001b[0m \u001b[0mnp\u001b[0m\u001b[0;34m.\u001b[0m\u001b[0munique\u001b[0m\u001b[0;34m(\u001b[0m\u001b[0my\u001b[0m\u001b[0;34m)\u001b[0m\u001b[0;34m\u001b[0m\u001b[0;34m\u001b[0m\u001b[0m\n",
            "\u001b[0;32m/usr/local/lib/python3.6/dist-packages/sklearn/utils/validation.py\u001b[0m in \u001b[0;36mcheck_X_y\u001b[0;34m(X, y, accept_sparse, accept_large_sparse, dtype, order, copy, force_all_finite, ensure_2d, allow_nd, multi_output, ensure_min_samples, ensure_min_features, y_numeric, warn_on_dtype, estimator)\u001b[0m\n\u001b[1;32m    753\u001b[0m                     \u001b[0mensure_min_features\u001b[0m\u001b[0;34m=\u001b[0m\u001b[0mensure_min_features\u001b[0m\u001b[0;34m,\u001b[0m\u001b[0;34m\u001b[0m\u001b[0;34m\u001b[0m\u001b[0m\n\u001b[1;32m    754\u001b[0m                     \u001b[0mwarn_on_dtype\u001b[0m\u001b[0;34m=\u001b[0m\u001b[0mwarn_on_dtype\u001b[0m\u001b[0;34m,\u001b[0m\u001b[0;34m\u001b[0m\u001b[0;34m\u001b[0m\u001b[0m\n\u001b[0;32m--> 755\u001b[0;31m                     estimator=estimator)\n\u001b[0m\u001b[1;32m    756\u001b[0m     \u001b[0;32mif\u001b[0m \u001b[0mmulti_output\u001b[0m\u001b[0;34m:\u001b[0m\u001b[0;34m\u001b[0m\u001b[0;34m\u001b[0m\u001b[0m\n\u001b[1;32m    757\u001b[0m         y = check_array(y, 'csr', force_all_finite=True, ensure_2d=False,\n",
            "\u001b[0;32m/usr/local/lib/python3.6/dist-packages/sklearn/utils/validation.py\u001b[0m in \u001b[0;36mcheck_array\u001b[0;34m(array, accept_sparse, accept_large_sparse, dtype, order, copy, force_all_finite, ensure_2d, allow_nd, ensure_min_samples, ensure_min_features, warn_on_dtype, estimator)\u001b[0m\n\u001b[1;32m    529\u001b[0m                     \u001b[0marray\u001b[0m \u001b[0;34m=\u001b[0m \u001b[0marray\u001b[0m\u001b[0;34m.\u001b[0m\u001b[0mastype\u001b[0m\u001b[0;34m(\u001b[0m\u001b[0mdtype\u001b[0m\u001b[0;34m,\u001b[0m \u001b[0mcasting\u001b[0m\u001b[0;34m=\u001b[0m\u001b[0;34m\"unsafe\"\u001b[0m\u001b[0;34m,\u001b[0m \u001b[0mcopy\u001b[0m\u001b[0;34m=\u001b[0m\u001b[0;32mFalse\u001b[0m\u001b[0;34m)\u001b[0m\u001b[0;34m\u001b[0m\u001b[0;34m\u001b[0m\u001b[0m\n\u001b[1;32m    530\u001b[0m                 \u001b[0;32melse\u001b[0m\u001b[0;34m:\u001b[0m\u001b[0;34m\u001b[0m\u001b[0;34m\u001b[0m\u001b[0m\n\u001b[0;32m--> 531\u001b[0;31m                     \u001b[0marray\u001b[0m \u001b[0;34m=\u001b[0m \u001b[0mnp\u001b[0m\u001b[0;34m.\u001b[0m\u001b[0masarray\u001b[0m\u001b[0;34m(\u001b[0m\u001b[0marray\u001b[0m\u001b[0;34m,\u001b[0m \u001b[0morder\u001b[0m\u001b[0;34m=\u001b[0m\u001b[0morder\u001b[0m\u001b[0;34m,\u001b[0m \u001b[0mdtype\u001b[0m\u001b[0;34m=\u001b[0m\u001b[0mdtype\u001b[0m\u001b[0;34m)\u001b[0m\u001b[0;34m\u001b[0m\u001b[0;34m\u001b[0m\u001b[0m\n\u001b[0m\u001b[1;32m    532\u001b[0m             \u001b[0;32mexcept\u001b[0m \u001b[0mComplexWarning\u001b[0m\u001b[0;34m:\u001b[0m\u001b[0;34m\u001b[0m\u001b[0;34m\u001b[0m\u001b[0m\n\u001b[1;32m    533\u001b[0m                 raise ValueError(\"Complex data not supported\\n\"\n",
            "\u001b[0;32m/usr/local/lib/python3.6/dist-packages/numpy/core/_asarray.py\u001b[0m in \u001b[0;36masarray\u001b[0;34m(a, dtype, order)\u001b[0m\n\u001b[1;32m     83\u001b[0m \u001b[0;34m\u001b[0m\u001b[0m\n\u001b[1;32m     84\u001b[0m     \"\"\"\n\u001b[0;32m---> 85\u001b[0;31m     \u001b[0;32mreturn\u001b[0m \u001b[0marray\u001b[0m\u001b[0;34m(\u001b[0m\u001b[0ma\u001b[0m\u001b[0;34m,\u001b[0m \u001b[0mdtype\u001b[0m\u001b[0;34m,\u001b[0m \u001b[0mcopy\u001b[0m\u001b[0;34m=\u001b[0m\u001b[0;32mFalse\u001b[0m\u001b[0;34m,\u001b[0m \u001b[0morder\u001b[0m\u001b[0;34m=\u001b[0m\u001b[0morder\u001b[0m\u001b[0;34m)\u001b[0m\u001b[0;34m\u001b[0m\u001b[0;34m\u001b[0m\u001b[0m\n\u001b[0m\u001b[1;32m     86\u001b[0m \u001b[0;34m\u001b[0m\u001b[0m\n\u001b[1;32m     87\u001b[0m \u001b[0;34m\u001b[0m\u001b[0m\n",
            "\u001b[0;31mValueError\u001b[0m: could not convert string to float: 'Hardware + Software'"
          ]
        }
      ]
    }
  ]
}